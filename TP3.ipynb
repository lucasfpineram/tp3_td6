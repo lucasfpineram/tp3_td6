{
  "cells": [
    {
      "cell_type": "markdown",
      "metadata": {
        "id": "k1LYdorEvtbS"
      },
      "source": [
        "\n",
        "# TP3: Clasificador de imagenes\n",
        "\n",
        "\n",
        "``torchvision`` contiene  data loaders para datasets conocidos como ImageNet, CIFAR10, MNIST, etc.\n",
        "``torchvision.datasets`` and ``torch.utils.data.DataLoader``.\n",
        "\n",
        "El dataset CIFAR10 contiene las siguientes clases: ‘airplane’, ‘automobile’, ‘bird’, ‘cat’, ‘deer’,\n",
        "‘dog’, ‘frog’, ‘horse’, ‘ship’, ‘truck’.\n",
        "Las imagenes son de tamaño 3x32x32, i.e. imagenes de color de 3 canales (RGB) de 32x32 pixels en tamaño.\n",
        "\n",
        "\n",
        "## Orden de pasos\n",
        "\n",
        "0. Elijan GPU para que corra mas rapido (RAM --> change runtime type --> T4 GPU)\n",
        "1. Cargamos los datos CIFAR10 y preparamos los sets de training, validation y test.\n",
        "2. Definimos las redes. Una MLP, un una CNN\n",
        "3. Definimos la loss\n",
        "4. Entrenamos\n",
        "5. Evaluamos en Test\n"
      ]
    },
    {
      "cell_type": "markdown",
      "metadata": {
        "id": "D3MW_SgnvtbY"
      },
      "source": [
        "## 1. Configuración\n",
        "Crearse una cuenta en Weights and Biases (o en su board favorito) y linkear la notebook a este. Cada experimento deberá contener nombres dicientes y almacenar los (hiper)parámetros de configuración del mismo. Deberá separar los sets de datos en entrenamiento, validación y test. Utilizando solamente los sets de entrenamiento y validación, registrar la loss en train y validación en cada iteración que considere conveniente"
      ]
    },
    {
      "cell_type": "code",
      "execution_count": 1,
      "metadata": {
        "colab": {
          "base_uri": "https://localhost:8080/"
        },
        "id": "09qrFEI4vtba",
        "outputId": "789dc4fa-2e2e-4720-8010-e3d06029aa69"
      },
      "outputs": [
        {
          "name": "stdout",
          "output_type": "stream",
          "text": [
            "Requirement already satisfied: wandb in c:\\users\\oltie\\appdata\\local\\programs\\python\\python310\\lib\\site-packages (0.15.12)\n",
            "Requirement already satisfied: Click!=8.0.0,>=7.1 in c:\\users\\oltie\\appdata\\local\\programs\\python\\python310\\lib\\site-packages (from wandb) (8.1.3)\n",
            "Requirement already satisfied: GitPython!=3.1.29,>=1.0.0 in c:\\users\\oltie\\appdata\\local\\programs\\python\\python310\\lib\\site-packages (from wandb) (3.1.40)\n",
            "Requirement already satisfied: requests<3,>=2.0.0 in c:\\users\\oltie\\appdata\\local\\programs\\python\\python310\\lib\\site-packages (from wandb) (2.30.0)\n",
            "Requirement already satisfied: psutil>=5.0.0 in c:\\users\\oltie\\appdata\\local\\programs\\python\\python310\\lib\\site-packages (from wandb) (5.9.1)\n",
            "Requirement already satisfied: sentry-sdk>=1.0.0 in c:\\users\\oltie\\appdata\\local\\programs\\python\\python310\\lib\\site-packages (from wandb) (1.32.0)\n",
            "Requirement already satisfied: docker-pycreds>=0.4.0 in c:\\users\\oltie\\appdata\\local\\programs\\python\\python310\\lib\\site-packages (from wandb) (0.4.0)\n",
            "Requirement already satisfied: PyYAML in c:\\users\\oltie\\appdata\\local\\programs\\python\\python310\\lib\\site-packages (from wandb) (6.0.1)\n",
            "Requirement already satisfied: pathtools in c:\\users\\oltie\\appdata\\local\\programs\\python\\python310\\lib\\site-packages (from wandb) (0.1.2)\n",
            "Requirement already satisfied: setproctitle in c:\\users\\oltie\\appdata\\local\\programs\\python\\python310\\lib\\site-packages (from wandb) (1.3.3)\n",
            "Requirement already satisfied: setuptools in c:\\users\\oltie\\appdata\\local\\programs\\python\\python310\\lib\\site-packages (from wandb) (58.1.0)\n",
            "Requirement already satisfied: appdirs>=1.4.3 in c:\\users\\oltie\\appdata\\local\\programs\\python\\python310\\lib\\site-packages (from wandb) (1.4.4)\n",
            "Requirement already satisfied: protobuf!=4.21.0,<5,>=3.19.0 in c:\\users\\oltie\\appdata\\local\\programs\\python\\python310\\lib\\site-packages (from wandb) (4.24.4)\n",
            "Requirement already satisfied: colorama in c:\\users\\oltie\\appdata\\local\\programs\\python\\python310\\lib\\site-packages (from Click!=8.0.0,>=7.1->wandb) (0.4.5)\n",
            "Requirement already satisfied: six>=1.4.0 in c:\\users\\oltie\\appdata\\local\\programs\\python\\python310\\lib\\site-packages (from docker-pycreds>=0.4.0->wandb) (1.16.0)\n",
            "Requirement already satisfied: gitdb<5,>=4.0.1 in c:\\users\\oltie\\appdata\\local\\programs\\python\\python310\\lib\\site-packages (from GitPython!=3.1.29,>=1.0.0->wandb) (4.0.11)\n",
            "Requirement already satisfied: charset-normalizer<4,>=2 in c:\\users\\oltie\\appdata\\local\\programs\\python\\python310\\lib\\site-packages (from requests<3,>=2.0.0->wandb) (3.1.0)\n",
            "Requirement already satisfied: idna<4,>=2.5 in c:\\users\\oltie\\appdata\\local\\programs\\python\\python310\\lib\\site-packages (from requests<3,>=2.0.0->wandb) (3.4)\n",
            "Requirement already satisfied: urllib3<3,>=1.21.1 in c:\\users\\oltie\\appdata\\local\\programs\\python\\python310\\lib\\site-packages (from requests<3,>=2.0.0->wandb) (2.0.2)\n",
            "Requirement already satisfied: certifi>=2017.4.17 in c:\\users\\oltie\\appdata\\local\\programs\\python\\python310\\lib\\site-packages (from requests<3,>=2.0.0->wandb) (2023.5.7)\n",
            "Requirement already satisfied: smmap<6,>=3.0.1 in c:\\users\\oltie\\appdata\\local\\programs\\python\\python310\\lib\\site-packages (from gitdb<5,>=4.0.1->GitPython!=3.1.29,>=1.0.0->wandb) (5.0.1)\n"
          ]
        },
        {
          "name": "stderr",
          "output_type": "stream",
          "text": [
            "\n",
            "[notice] A new release of pip is available: 23.2.1 -> 23.3.1\n",
            "[notice] To update, run: python.exe -m pip install --upgrade pip\n"
          ]
        }
      ],
      "source": [
        "!pip install wandb"
      ]
    },
    {
      "cell_type": "code",
      "execution_count": 2,
      "metadata": {
        "id": "z06nOSDXvtbc"
      },
      "outputs": [],
      "source": [
        "import torch\n",
        "import torch.nn as nn\n",
        "import torch.nn.functional as F\n",
        "import torch.optim as optim\n",
        "import torchvision\n",
        "import torch.utils.data\n",
        "import torchvision.transforms as transforms\n",
        "\n",
        "from sklearn.model_selection import train_test_split\n",
        "import numpy as np\n",
        "import wandb\n",
        "import matplotlib.pyplot as plt\n",
        "import os"
      ]
    },
    {
      "cell_type": "code",
      "execution_count": 3,
      "metadata": {
        "colab": {
          "base_uri": "https://localhost:8080/"
        },
        "id": "z4O_5JXHvtbe",
        "outputId": "7e4f0f24-6e38-47d4-81aa-3db6795af28d"
      },
      "outputs": [
        {
          "name": "stdout",
          "output_type": "stream",
          "text": [
            "cpu\n"
          ]
        }
      ],
      "source": [
        "device = torch.device('cuda:0' if torch.cuda.is_available() else 'cpu')\n",
        "\n",
        "# Assuming that we are on a CUDA machine, this should print a CUDA device:\n",
        "\n",
        "print(device)"
      ]
    },
    {
      "cell_type": "code",
      "execution_count": 4,
      "metadata": {
        "colab": {
          "base_uri": "https://localhost:8080/"
        },
        "id": "t-Vwwcxnvtbe",
        "outputId": "bc8a9c2a-ebe6-4b7c-be8f-1f2c505560af"
      },
      "outputs": [
        {
          "name": "stderr",
          "output_type": "stream",
          "text": [
            "Failed to detect the name of this notebook, you can set it manually with the WANDB_NOTEBOOK_NAME environment variable to enable code saving.\n",
            "\u001b[34m\u001b[1mwandb\u001b[0m: Currently logged in as: \u001b[33mosaintnom\u001b[0m (\u001b[33mchicas_superpoderosas\u001b[0m). Use \u001b[1m`wandb login --relogin`\u001b[0m to force relogin\n"
          ]
        },
        {
          "data": {
            "text/plain": [
              "True"
            ]
          },
          "execution_count": 4,
          "metadata": {},
          "output_type": "execute_result"
        }
      ],
      "source": [
        "# !wandb login --relogin\n",
        "wandb.login()"
      ]
    },
    {
      "cell_type": "markdown",
      "metadata": {
        "id": "J-yuBpK8vtbf"
      },
      "source": [
        "bfbad9b2649155692b5f97a49a43c0eeb66dff4a"
      ]
    },
    {
      "cell_type": "code",
      "execution_count": 5,
      "metadata": {
        "id": "qLjhp9tevtbf"
      },
      "outputs": [],
      "source": [
        "# Chequeamos si la carpeta data existe, si no existe la creamos\n",
        "download = not os.path.isdir('./data')\n"
      ]
    },
    {
      "cell_type": "code",
      "execution_count": 6,
      "metadata": {
        "id": "Pl99kfRQvtbg"
      },
      "outputs": [],
      "source": [
        "torch.manual_seed(181988)\n",
        "if torch.cuda.is_available():\n",
        "    torch.cuda.manual_seed(181988)\n"
      ]
    },
    {
      "cell_type": "code",
      "execution_count": 7,
      "metadata": {
        "id": "Vhe4FrtLvtbg"
      },
      "outputs": [],
      "source": [
        "#Parametros\n",
        "batch_size =32\n",
        "learning_rate = 0.02\n",
        "momentum =.9\n",
        "epochs = 10\n",
        "num_classes = 10\n",
        "\n",
        "# epochs = 20\n",
        "# batch_size = 16\n",
        "# learning_rate = 0.005\n",
        "# weight_decay = 0.005\n",
        "# momentum = 0.9\n",
        "\n",
        "# experiment_name = \"MLP\"\n",
        "# experiment_name = \"fc_hl_bigvalues\"\n",
        "# experiment_name = \"fc_hl_1layers\"\n",
        "# experiment_name = \"fc_hl_values_and_2layers\"\n",
        "# experiment_name = \"fc_hl_bigvalues_and_2layers\"\n",
        "# experiment_name = \"fc_hl_less_values\"\n",
        "# experiment_name = \"fc_hl_1layer_less\"\n",
        "# experiment_name = \"fc_hl_1layerless_smallvalues\"\n",
        "# experiment_name = \"cnn_lessvalues\"\n",
        "# experiment_name = \"cnn_lessvalues_LR_MP\"\n",
        "# experiment_name = 'CNN_LeNet-5'\n",
        "# experiment_name = 'CNN_ALexNet'\n",
        "# experiment_name = 'CNN_VGG16'\n",
        "experiment_name = 'CNN_ResNet-18'\n",
        "\n",
        "\n",
        "project_name = \"TP3\""
      ]
    },
    {
      "cell_type": "code",
      "execution_count": 8,
      "metadata": {
        "id": "uq31NdHWvtbg"
      },
      "outputs": [],
      "source": [
        "name_deep_net_exp = ['MLP','fc_hl_bigvalues','fc_hl_1layers','fc_hl_values_and_2layers','fc_hl_bigvalues_and_2layers','fc_hl_less_values','fc_hl_1layer_less','fc_hl_1layerless_smallvalues','cnn_lessvalues','cnn_lessvalues_LR_MP']\n",
        "\n",
        "name_conv_net_exp = ['CNN_LeNet-5','CNN_ALexNet','CNN_ResNet-18','CNN_VGG16']"
      ]
    },
    {
      "cell_type": "code",
      "execution_count": 9,
      "metadata": {
        "id": "AfU0X5SYvtbh"
      },
      "outputs": [],
      "source": [
        "# Guardamos en la variable transform un tensor de 3 dimensiones (RGB) normalizado\n",
        "transform = transforms.Compose(\n",
        "    [transforms.ToTensor(), transforms.Normalize((0.5, 0.5, 0.5), (0.5, 0.5, 0.5))]\n",
        ")\n"
      ]
    },
    {
      "cell_type": "markdown",
      "metadata": {
        "id": "-H8TvZomvtbh"
      },
      "source": [
        "### Train Set y Validation Set"
      ]
    },
    {
      "cell_type": "code",
      "execution_count": 10,
      "metadata": {
        "colab": {
          "base_uri": "https://localhost:8080/"
        },
        "id": "t63CYkKTvtbh",
        "outputId": "5fb2ac99-bf67-46af-8789-413b5b26fb2f"
      },
      "outputs": [
        {
          "name": "stdout",
          "output_type": "stream",
          "text": [
            "Files already downloaded and verified\n"
          ]
        }
      ],
      "source": [
        "trainset = torchvision.datasets.CIFAR10(root='./data', train=True, download=True, transform=transform)\n",
        "\n",
        "#trainloader = torch.utils.data.DataLoader(trainset, batch_size=batch_size, shuffle=True, num_workers=2)\n",
        "targets_ = trainset.targets\n",
        "train_idx, val_idx = train_test_split(np.arange(len(targets_)), test_size=0.2, stratify=targets_)\n",
        "train_sampler = torch.utils.data.SubsetRandomSampler(train_idx)\n",
        "val_sampler = torch.utils.data.SubsetRandomSampler(val_idx)\n",
        "\n",
        "trainloader = torch.utils.data.DataLoader(trainset, sampler=train_sampler,batch_size=batch_size, num_workers=2)\n",
        "valloader = torch.utils.data.DataLoader(trainset, sampler=val_sampler,batch_size=batch_size, num_workers=2)\n"
      ]
    },
    {
      "cell_type": "markdown",
      "metadata": {
        "id": "zBMXuN4Gvtbi"
      },
      "source": [
        "### Test Set"
      ]
    },
    {
      "cell_type": "code",
      "execution_count": 11,
      "metadata": {
        "colab": {
          "base_uri": "https://localhost:8080/"
        },
        "id": "fm3Qkwc_vtbi",
        "outputId": "19fa2789-4b6c-48a2-bbea-7261039efe66"
      },
      "outputs": [
        {
          "name": "stdout",
          "output_type": "stream",
          "text": [
            "Files already downloaded and verified\n"
          ]
        }
      ],
      "source": [
        "testset = torchvision.datasets.CIFAR10(root='./data', train=False, download=True, transform=transform)\n",
        "testloader = torch.utils.data.DataLoader(testset, batch_size=batch_size, shuffle=False, num_workers=2)\n",
        "\n",
        "classes = ('plane', 'car', 'bird', 'cat',\n",
        "           'deer', 'dog', 'frog', 'horse', 'ship', 'truck')\n"
      ]
    },
    {
      "cell_type": "markdown",
      "metadata": {
        "id": "dflI3lY5vtbi"
      },
      "source": [
        "### Visualizacion de Imagenes"
      ]
    },
    {
      "cell_type": "code",
      "execution_count": 12,
      "metadata": {
        "colab": {
          "base_uri": "https://localhost:8080/",
          "height": 350
        },
        "id": "FfQOxDnOvtbi",
        "outputId": "ed918ef0-40d0-45d1-f2f4-d944565d7501"
      },
      "outputs": [
        {
          "data": {
            "image/png": "[encoded data removed]",
            "text/plain": [
              "<Figure size 432x288 with 1 Axes>"
            ]
          },
          "metadata": {
            "needs_background": "light"
          },
          "output_type": "display_data"
        },
        {
          "name": "stdout",
          "output_type": "stream",
          "text": [
            "dog   truck dog   truck bird  ship  ship  truck truck bird  deer  dog   car   horse cat   cat   frog  ship  horse deer  deer  dog   cat   plane plane plane frog  dog   cat   truck cat   bird \n"
          ]
        },
        {
          "data": {
            "text/plain": [
              "torch.Size([3, 32, 32])"
            ]
          },
          "execution_count": 12,
          "metadata": {},
          "output_type": "execute_result"
        }
      ],
      "source": [
        "%matplotlib inline\n",
        "\n",
        "# Funcion para mostrar imagenes\n",
        "def imshow(img):\n",
        "    img = img / 2 + 0.5\n",
        "    npimg = img.numpy()\n",
        "    plt.imshow(np.transpose(npimg, (1, 2, 0)))\n",
        "    plt.show()\n",
        "\n",
        "# Tomar imagenes random\n",
        "data_iter = iter(trainloader)\n",
        "images, labels = next(data_iter)\n",
        "\n",
        "# Mostramos imagenes\n",
        "imshow(torchvision.utils.make_grid(images))\n",
        "\n",
        "# Printeamos las etiquetas de las imagenes\n",
        "print(' '.join(f'{classes[labels[j]]:5s}' for j in range(batch_size)))\n",
        "\n",
        "image_size = images[0].shape\n",
        "image_size\n"
      ]
    },
    {
      "cell_type": "markdown",
      "metadata": {
        "id": "vsgLRqfcvtbi"
      },
      "source": [
        "## 2. Arquitectura\n",
        "Realizar experimentos variando cantidad de capas densas, nodos, hidden layers y reportar el mejor y peor experimento. ¿Qué estrategia utilizaron? ¿Qué resultados obtuvieron?"
      ]
    },
    {
      "cell_type": "code",
      "execution_count": 13,
      "metadata": {
        "id": "-BZm_gwNvtbi"
      },
      "outputs": [],
      "source": [
        "if experiment_name == \"MLP\":\n",
        "    class Net(nn.Module):\n",
        "        def __init__(self):\n",
        "            super().__init__()\n",
        "            self.fc1 = nn.Linear(32*32*3, 32*32*3)\n",
        "            self.fc21 = nn.Linear(32*32*3, 32*32)\n",
        "            self.fc22 = nn.Linear(32*32, 120)\n",
        "            self.fc23 = nn.Linear(120, 120)\n",
        "            self.fc2 = nn.Linear(120, 84)\n",
        "            self.fc3 = nn.Linear(84, num_classes) # termina con 10 para quedarse con la mejor\n",
        "\n",
        "        def forward(self, x):\n",
        "            x = torch.flatten(x, 1) # flatten all dimensions except batch\n",
        "            x = F.relu(self.fc1(x))\n",
        "            x = F.relu(self.fc21(x))\n",
        "            x = F.relu(self.fc22(x))\n",
        "            x = F.relu(self.fc23(x))\n",
        "            x = F.relu(self.fc2(x))\n",
        "            x = self.fc3(x)\n",
        "            return x\n",
        "\n"
      ]
    },
    {
      "cell_type": "code",
      "execution_count": 14,
      "metadata": {
        "id": "bUf9UpTyvtbj"
      },
      "outputs": [],
      "source": [
        "if experiment_name == \"fc_hl_bigvalues\":\n",
        "    class Net(nn.Module):\n",
        "        def __init__(self):\n",
        "            super().__init__()\n",
        "            self.fc1 = nn.Linear(32*32*3, 32*32*3)\n",
        "            self.fc21 = nn.Linear(32*32*3, 32*32)\n",
        "            self.fc22 = nn.Linear(32*32, 150)\n",
        "            self.fc23 = nn.Linear(150, 150)\n",
        "            self.fc2 = nn.Linear(150, 100)\n",
        "            self.fc3 = nn.Linear(100, num_classes) # termina con 10 para quedarse con la mejor\n",
        "\n",
        "        def forward(self, x):\n",
        "            x = torch.flatten(x, 1) # flatten all dimensions except batch\n",
        "            x = F.relu(self.fc1(x))\n",
        "            x = F.relu(self.fc21(x))\n",
        "            x = F.relu(self.fc22(x))\n",
        "            x = F.relu(self.fc23(x))\n",
        "            x = F.relu(self.fc2(x))\n",
        "            x = self.fc3(x)\n",
        "            return x\n",
        "\n"
      ]
    },
    {
      "cell_type": "code",
      "execution_count": 15,
      "metadata": {
        "id": "S4Xp9SPUvtbj"
      },
      "outputs": [],
      "source": [
        "if experiment_name == \"fc_hl_1layers\":\n",
        "    class Net(nn.Module):\n",
        "        def __init__(self):\n",
        "            super().__init__()\n",
        "            self.fc1 = nn.Linear(32*32*3, 32*32*3)\n",
        "            self.fc21 = nn.Linear(32*32*3, 32*32)\n",
        "            self.fc22 = nn.Linear(32*32, 300)\n",
        "            self.fc23 = nn.Linear(300, 200)\n",
        "            self.fc_hidden = nn.Linear(200, 120)  # Nueva capa oculta con 120 nodos\n",
        "            self.fc2 = nn.Linear(120, 84)\n",
        "            self.fc3 = nn.Linear(84, num_classes)\n",
        "\n",
        "        def forward(self, x):\n",
        "            x = torch.flatten(x, 1) # flatten all dimensions except batch\n",
        "            x = F.relu(self.fc1(x))\n",
        "            x = F.relu(self.fc21(x))\n",
        "            x = F.relu(self.fc22(x))\n",
        "            x = F.relu(self.fc23(x))\n",
        "            x = F.relu(self.fc_hidden(x))\n",
        "            x = F.relu(self.fc2(x))\n",
        "            x = self.fc3(x)\n",
        "            return x\n"
      ]
    },
    {
      "cell_type": "code",
      "execution_count": 16,
      "metadata": {
        "id": "e8Fm3kWPvtbj"
      },
      "outputs": [],
      "source": [
        "if experiment_name == \"fc_hl_bigvalues_and_2layers\":\n",
        "    class Net(nn.Module):\n",
        "        def __init__(self):\n",
        "            super().__init__()\n",
        "            self.fc1 = nn.Linear(32*32*3, 32*32*3)\n",
        "            self.fc21 = nn.Linear(32*32*3, 32*32)\n",
        "            self.fc22 = nn.Linear(32*32, 300)\n",
        "            self.fc23 = nn.Linear(300, 200)\n",
        "            self.fc_hidden12 = nn.Linear(200, 200)  # Nueva capa oculta con 120 nodos\n",
        "            self.fc2 = nn.Linear(200, 120)\n",
        "            self.fc_hidden23 = nn.Linear(120, 84)\n",
        "            self.fc3 = nn.Linear(84, num_classes)\n",
        "\n",
        "        def forward(self, x):\n",
        "            x = torch.flatten(x, 1) # flatten all dimensions except batch\n",
        "            x = F.relu(self.fc1(x))\n",
        "            x = F.relu(self.fc21(x))\n",
        "            x = F.relu(self.fc22(x))\n",
        "            x = F.relu(self.fc23(x))\n",
        "            x = F.relu(self.fc_hidden12(x))\n",
        "            x = F.relu(self.fc2(x))\n",
        "            x = F.relu(self.fc_hidden23(x))\n",
        "            x = self.fc3(x)\n",
        "            return x\n"
      ]
    },
    {
      "cell_type": "code",
      "execution_count": 17,
      "metadata": {
        "id": "1gsf2GDivtbj"
      },
      "outputs": [],
      "source": [
        "if experiment_name == \"fc_hl_less_values\":\n",
        "    class Net(nn.Module):\n",
        "        def __init__(self):\n",
        "            super().__init__()\n",
        "            self.fc1 = nn.Linear(32*32*3, 32*32*3)\n",
        "            self.fc21 = nn.Linear(32*32*3, 32*32)\n",
        "            self.fc22 = nn.Linear(32*32, 50)\n",
        "            self.fc23 = nn.Linear(50, 50)\n",
        "            self.fc2 = nn.Linear(50, 25)\n",
        "            self.fc3 = nn.Linear(25, num_classes) # termina con 10 para quedarse con la mejor\n",
        "\n",
        "        def forward(self, x):\n",
        "            x = torch.flatten(x, 1) # flatten all dimensions except batch\n",
        "            x = F.relu(self.fc1(x))\n",
        "            x = F.relu(self.fc21(x))\n",
        "            x = F.relu(self.fc22(x))\n",
        "            x = F.relu(self.fc23(x))\n",
        "            x = F.relu(self.fc2(x))\n",
        "            x = self.fc3(x)\n",
        "            return x\n"
      ]
    },
    {
      "cell_type": "code",
      "execution_count": 18,
      "metadata": {
        "id": "BoUOsU4Svtbk"
      },
      "outputs": [],
      "source": [
        "if experiment_name == \"fc_hl_1layer_less\":\n",
        "    class Net(nn.Module):\n",
        "        def __init__(self):\n",
        "            super().__init__()\n",
        "            self.fc1 = nn.Linear(32*32*3, 32*32*3)\n",
        "            self.fc21 = nn.Linear(32*32*3, 32*32)\n",
        "            self.fc22 = nn.Linear(32*32, 120)\n",
        "            self.fc2 = nn.Linear(120, 84)\n",
        "            self.fc3 = nn.Linear(84, num_classes) # termina con 10 para quedarse con la mejor\n",
        "\n",
        "        def forward(self, x):\n",
        "            x = torch.flatten(x, 1) # flatten all dimensions except batch\n",
        "            x = F.relu(self.fc1(x))\n",
        "            x = F.relu(self.fc21(x))\n",
        "            x = F.relu(self.fc22(x))\n",
        "            x = F.relu(self.fc2(x))\n",
        "            x = self.fc3(x)\n",
        "            return x\n"
      ]
    },
    {
      "cell_type": "code",
      "execution_count": 19,
      "metadata": {
        "id": "WhubPvdEvtbk"
      },
      "outputs": [],
      "source": [
        "if experiment_name == \"fc_hl_1layerless_smallvalues\":\n",
        "    class Net(nn.Module):\n",
        "        def __init__(self):\n",
        "            super().__init__()\n",
        "            self.fc1 = nn.Linear(32*32*3, 32*32*3)\n",
        "            self.fc21 = nn.Linear(32*32*3, 32*32)\n",
        "            self.fc22 = nn.Linear(32*32, 50)\n",
        "            self.fc2 = nn.Linear(50, 25)\n",
        "            self.fc3 = nn.Linear(25, num_classes) # termina con 10 para quedarse con la mejor\n",
        "\n",
        "        def forward(self, x):\n",
        "            x = torch.flatten(x, 1) # flatten all dimensions except batch\n",
        "            x = F.relu(self.fc1(x))\n",
        "            x = F.relu(self.fc21(x))\n",
        "            x = F.relu(self.fc22(x))\n",
        "            x = F.relu(self.fc2(x))\n",
        "            x = self.fc3(x)\n",
        "            return x\n",
        "\n",
        "\n"
      ]
    },
    {
      "cell_type": "code",
      "execution_count": 20,
      "metadata": {
        "id": "pq3foxLKvtbk"
      },
      "outputs": [],
      "source": [
        "for i in name_deep_net_exp:\n",
        "    if experiment_name == i:\n",
        "        net = Net()\n",
        "        net.to(device)\n"
      ]
    },
    {
      "cell_type": "markdown",
      "metadata": {
        "id": "Slzn6-pqvtbk"
      },
      "source": [
        "## 3. Arquitectura CNN\n",
        "Extienda el análisis utilizando capas convolucionales y reportar el mejor y peor experimento. ¿Cómo se compara?"
      ]
    },
    {
      "cell_type": "code",
      "execution_count": 21,
      "metadata": {
        "id": "OZ5aOd5Gvtbl"
      },
      "outputs": [],
      "source": [
        "if experiment_name == \"cnn_lessvalues\":\n",
        "    class NetConv(nn.Module):\n",
        "        def __init__(self):\n",
        "            super().__init__()\n",
        "            self.conv1 = nn.Conv2d(in_channels = 3, x_channels = 6,kernel_size = 5, stride = 1, padding = 1)\n",
        "            self.pool = nn.MaxPool2d(2, 2)\n",
        "            self.conv2 = nn.Conv2d(in_channels = 6, x_channels = 16, kernel_size = 5, stride = 1, padding = 1)\n",
        "            self.fc1 = nn.Linear(16 * 5 * 5, 50)\n",
        "            self.fc21 = nn.Linear(50, 50)\n",
        "            self.fc22 = nn.Linear(50, 50)\n",
        "            self.fc23 = nn.Linear(50, 50)\n",
        "            self.fc2 = nn.Linear(50, 25)\n",
        "            self.fc3 = nn.Linear(25, num_classes)\n",
        "\n",
        "        def forward(self, x):\n",
        "            x = self.pool(F.relu(self.conv1(x)))\n",
        "            x = self.pool(F.relu(self.conv2(x)))\n",
        "            x = torch.flatten(x, 1) # flatten all dimensions except batch\n",
        "            x = F.relu(self.fc1(x))\n",
        "            x = F.relu(self.fc21(x))\n",
        "            x = F.relu(self.fc22(x))\n",
        "            x = F.relu(self.fc23(x))\n",
        "            x = F.relu(self.fc2(x))\n",
        "            x = self.fc3(x)\n",
        "            return x\n"
      ]
    },
    {
      "cell_type": "code",
      "execution_count": 22,
      "metadata": {
        "id": "0enZAOabqmY7"
      },
      "outputs": [],
      "source": [
        "if experiment_name == \"cnn_3convlayers\":\n",
        "    class NetConv(nn.Module):\n",
        "        def __init__(self):\n",
        "            super().__init__()\n",
        "            self.conv1 = nn.Conv2d(in_channels = 3, x_channels = 6,kernel_size = 5, stride = 1, padding = 1)\n",
        "            self.pool = nn.MaxPool2d(2, 2)\n",
        "            self.conv2 = nn.Conv2d(in_channels = 6, x_channels = 16, kernel_size = 2, stride = 2, padding = 1)\n",
        "            self.pool1 = nn.MaxPool2d(2, 2)\n",
        "            self.conv3 = nn.Conv2d(in_channels = 6, x_channels = 16, kernel_size = 2, stride = 1, padding = 1)\n",
        "            self.fc1 = nn.Linear(16 * 5 * 5, 50)\n",
        "            self.fc2 = nn.Linear(50, 50)\n",
        "            self.fc3 = nn.Linear(50, 50)\n",
        "            self.out = nn.Linear(25, num_classes)\n",
        "\n",
        "        def forward(self, x):\n",
        "            x = self.pool(F.relu(self.conv1(x)))\n",
        "            x = self.pool(F.relu(self.conv2(x)))\n",
        "            x = torch.flatten(x, 1) # flatten all dimensions except batch\n",
        "            x = F.relu(self.fc1(x))\n",
        "            x = F.relu(self.fc2(x))\n",
        "            x = F.relu(self.fc3(x))\n",
        "            x = self.out(x)\n",
        "            return x"
      ]
    },
    {
      "cell_type": "code",
      "execution_count": 23,
      "metadata": {
        "id": "WPLJuowxvtbl"
      },
      "outputs": [],
      "source": [
        "\n",
        "if experiment_name == \"CNN_LeNet-5\":\n",
        "    class NetConv(nn.Module):\n",
        "        def __init__(self):\n",
        "            super(NetConv, self).__init__()\n",
        "            self.conv1 = nn.Conv2d(in_channels=3, x_channels=32, kernel_size=5, padding=2)\n",
        "            self.pool1 = nn.MaxPool2d(kernel_size=2, stride=2)\n",
        "            self.conv2 = nn.Conv2d(in_channels=32, x_channels=48, kernel_size=5)\n",
        "            self.pool2 = nn.MaxPool2d(kernel_size=2, stride=2)\n",
        "            self.fc1 = nn.Linear(1728, 256)  # Adjusted xput size to 256\n",
        "            self.fc2 = nn.Linear(256, 84)\n",
        "            self.fc3 = nn.Linear(84, num_classes)\n",
        "\n",
        "        def forward(self, x):\n",
        "            x = self.pool1(F.relu(self.conv1(x)))\n",
        "            x = self.pool2(F.relu(self.conv2(x)))\n",
        "            x = x.view(x.size(0), -1)  # Flatten the tensor\n",
        "            x = F.relu(self.fc1(x))\n",
        "            x = F.relu(self.fc2(x))\n",
        "            x = self.fc3(x)\n",
        "            return x\n",
        "\n"
      ]
    },
    {
      "cell_type": "code",
      "execution_count": 24,
      "metadata": {
        "id": "ejGmLqvkvtbl"
      },
      "outputs": [],
      "source": [
        "if experiment_name == \"CNN_ResNet-18\":\n",
        "  class BasicBlock(nn.Module):\n",
        "      expansion = 1\n",
        "\n",
        "      def __init__(self, in_planes, planes, stride=1):\n",
        "          super(BasicBlock, self).__init__()\n",
        "          self.conv1 = nn.Conv2d(in_planes, planes, kernel_size=3, stride=stride, padding=1, bias=False)\n",
        "          self.bn1 = nn.BatchNorm2d(planes)\n",
        "          self.conv2 = nn.Conv2d(planes, planes, kernel_size=3, stride=1, padding=1, bias=False)\n",
        "          self.bn2 = nn.BatchNorm2d(planes)\n",
        "          self.shortcut = nn.Sequential()\n",
        "          if stride != 1 or in_planes != self.expansion * planes:\n",
        "              self.shortcut = nn.Sequential(\n",
        "                  nn.Conv2d(in_planes, self.expansion * planes, kernel_size=1, stride=stride, bias=False),\n",
        "                  nn.BatchNorm2d(self.expansion * planes)\n",
        "              )\n",
        "\n",
        "      def forward(self, x):\n",
        "          out = F.relu(self.bn1(self.conv1(x)))\n",
        "          out = self.bn2(self.conv2(out))\n",
        "          out += self.shortcut(x)\n",
        "          out = F.relu(out)\n",
        "          return out\n",
        "\n",
        "  class NetConv(nn.Module):\n",
        "      def __init__(self, num_classes=10):\n",
        "          super(NetConv, self).__init__()\n",
        "          self.in_planes = 64\n",
        "\n",
        "          self.conv1 = nn.Conv2d(3, 64, kernel_size=3, stride=1, padding=1, bias=False)\n",
        "          self.bn1 = nn.BatchNorm2d(64)\n",
        "          self.layer1 = self._make_layer(BasicBlock, 64, 2, stride=1)\n",
        "          self.layer2 = self._make_layer(BasicBlock, 128, 2, stride=2)\n",
        "          self.layer3 = self._make_layer(BasicBlock, 256, 2, stride=2)\n",
        "          self.layer4 = self._make_layer(BasicBlock, 512, 2, stride=2)\n",
        "          self.avgpool = nn.AdaptiveAvgPool2d((1, 1))\n",
        "          self.fc = nn.Linear(512, num_classes)\n",
        "\n",
        "      def _make_layer(self, block, planes, num_blocks, stride):\n",
        "          strides = [stride] + [1] * (num_blocks - 1)\n",
        "          layers = []\n",
        "          for stride in strides:\n",
        "              layers.append(block(self.in_planes, planes, stride))\n",
        "              self.in_planes = planes * block.expansion\n",
        "          return nn.Sequential(*layers)\n",
        "\n",
        "      def forward(self, x):\n",
        "          x = F.relu(self.bn1(self.conv1(x)))\n",
        "          x = self.layer1(x)\n",
        "          x = self.layer2(x)\n",
        "          x = self.layer3(x)\n",
        "          x = self.layer4(x)\n",
        "          x = self.avgpool(x)\n",
        "          x = x.view(x.size(0), -1)\n",
        "          x = self.fc(x)\n",
        "          return x\n",
        "\n",
        "\n"
      ]
    },
    {
      "cell_type": "code",
      "execution_count": 25,
      "metadata": {
        "id": "PBI43Ljivtbm"
      },
      "outputs": [],
      "source": [
        "if experiment_name == \"CNN_VGG16\":\n",
        "    import torchvision.models as models\n",
        "    # class NetConv(nn.Module):\n",
        "    #     def __init__(self):\n",
        "    #         super(NetConv, self).__init__()\n",
        "    #         self.vgg16 = models.vgg16(pretrained=False)\n",
        "    #         num_ftrs = self.vgg16.classifier[6].in_features\n",
        "    #         self.vgg16.classifier[6] = nn.Linear(num_ftrs, 10)\n",
        "\n",
        "    #     def forward(self, x):\n",
        "    #         return self.vgg16(x)\n",
        "\n",
        "    class NetConv(nn.Module):\n",
        "        def __init__(self, num_classes=10):\n",
        "            super(NetConv, self).__init__()\n",
        "\n",
        "            self.transform = transforms.Compose(\n",
        "                [\n",
        "                    transforms.Resize((224, 224)),\n",
        "                    transforms.ToTensor(),\n",
        "                    transforms.Normalize((0.5, 0.5, 0.5), (0.5, 0.5, 0.5))\n",
        "                ]\n",
        "            )\n",
        "\n",
        "            self.layer1 = nn.Sequential(\n",
        "                nn.Conv2d(3, 64, kernel_size=3, stride=1, padding=1),\n",
        "                nn.BatchNorm2d(64),\n",
        "                nn.ReLU())\n",
        "            self.layer2 = nn.Sequential(\n",
        "                nn.Conv2d(64, 64, kernel_size=3, stride=1, padding=1),\n",
        "                nn.BatchNorm2d(64),\n",
        "                nn.ReLU(),\n",
        "                nn.MaxPool2d(kernel_size = 2, stride = 2))\n",
        "            self.layer3 = nn.Sequential(\n",
        "                nn.Conv2d(64, 128, kernel_size=3, stride=1, padding=1),\n",
        "                nn.BatchNorm2d(128),\n",
        "                nn.ReLU())\n",
        "            self.layer4 = nn.Sequential(\n",
        "                nn.Conv2d(128, 128, kernel_size=3, stride=1, padding=1),\n",
        "                nn.BatchNorm2d(128),\n",
        "                nn.ReLU(),\n",
        "                nn.MaxPool2d(kernel_size = 2, stride = 2))\n",
        "            self.layer5 = nn.Sequential(\n",
        "                nn.Conv2d(128, 256, kernel_size=3, stride=1, padding=1),\n",
        "                nn.BatchNorm2d(256),\n",
        "                nn.ReLU())\n",
        "            self.layer6 = nn.Sequential(\n",
        "                nn.Conv2d(256, 256, kernel_size=3, stride=1, padding=1),\n",
        "                nn.BatchNorm2d(256),\n",
        "                nn.ReLU())\n",
        "            self.layer7 = nn.Sequential(\n",
        "                nn.Conv2d(256, 256, kernel_size=3, stride=1, padding=1),\n",
        "                nn.BatchNorm2d(256),\n",
        "                nn.ReLU(),\n",
        "                nn.MaxPool2d(kernel_size = 2, stride = 2))\n",
        "            self.layer8 = nn.Sequential(\n",
        "                nn.Conv2d(256, 512, kernel_size=3, stride=1, padding=1),\n",
        "                nn.BatchNorm2d(512),\n",
        "                nn.ReLU())\n",
        "            self.layer9 = nn.Sequential(\n",
        "                nn.Conv2d(512, 512, kernel_size=3, stride=1, padding=1),\n",
        "                nn.BatchNorm2d(512),\n",
        "                nn.ReLU())\n",
        "            self.layer10 = nn.Sequential(\n",
        "                nn.Conv2d(512, 512, kernel_size=3, stride=1, padding=1),\n",
        "                nn.BatchNorm2d(512),\n",
        "                nn.ReLU(),\n",
        "                nn.MaxPool2d(kernel_size = 2, stride = 2))\n",
        "            self.layer11 = nn.Sequential(\n",
        "                nn.Conv2d(512, 512, kernel_size=3, stride=1, padding=1),\n",
        "                nn.BatchNorm2d(512),\n",
        "                nn.ReLU())\n",
        "            self.layer12 = nn.Sequential(\n",
        "                nn.Conv2d(512, 512, kernel_size=3, stride=1, padding=1),\n",
        "                nn.BatchNorm2d(512),\n",
        "                nn.ReLU())\n",
        "\n",
        "            self.layer13 = nn.Sequential(\n",
        "                nn.Conv2d(512, 512, kernel_size=3, stride=1, padding=1),\n",
        "                nn.BatchNorm2d(512),\n",
        "                nn.ReLU(),\n",
        "                nn.MaxPool2d(kernel_size = 2, stride = 2))\n",
        "\n",
        "            self.fc = nn.Sequential(\n",
        "                nn.Dropout(0.5),\n",
        "                nn.Linear(512, 4096),\n",
        "                nn.ReLU())\n",
        "\n",
        "            self.fc1 = nn.Sequential(\n",
        "                nn.Dropout(0.5),\n",
        "                nn.Linear(4096, 4096),\n",
        "                nn.ReLU())\n",
        "            self.fc2= nn.Sequential(\n",
        "                nn.Linear(4096, num_classes))\n",
        "\n",
        "        def forward(self, x):\n",
        "            x = self.layer1(x)\n",
        "            x = self.layer2(x)\n",
        "            x = self.layer3(x)\n",
        "            x = self.layer4(x)\n",
        "            x = self.layer5(x)\n",
        "            x = self.layer6(x)\n",
        "            x = self.layer7(x)\n",
        "            x = self.layer8(x)\n",
        "            x = self.layer9(x)\n",
        "            x = self.layer10(x)\n",
        "            x = self.layer11(x)\n",
        "            x = self.layer12(x)\n",
        "            x = self.layer13(x)\n",
        "            x = x.reshape(x.size(0), -1)\n",
        "            x = self.fc(x)\n",
        "            x = self.fc1(x)\n",
        "            x = self.fc2(x)\n",
        "            return x\n"
      ]
    },
    {
      "cell_type": "code",
      "execution_count": 26,
      "metadata": {
        "id": "UHTXZKj8qmY8"
      },
      "outputs": [],
      "source": [
        "if experiment_name == \"CNN_SqueezeNet\":\n",
        "    class FireModule(nn.Module):\n",
        "        def __init__(self, in_channels, s1x1, e1x1, e3x3):\n",
        "            super(FireModule, self).__init__()\n",
        "            self.squeeze = nn.Conv2d(in_channels=in_channels, out_channels=s1x1, kernel_size=1, stride=1)\n",
        "            self.expand1x1 = nn.Conv2d(in_channels=s1x1, out_channels=e1x1, kernel_size=1)\n",
        "            self.expand3x3 = nn.Conv2d(in_channels=s1x1, out_channels=e3x3, kernel_size=3, padding=1)\n",
        "\n",
        "        def forward(self, x):\n",
        "            x = F.relu(self.squeeze(x))\n",
        "            x1 = self.expand1x1(x)\n",
        "            x2 = self.expand3x3(x)\n",
        "            x = F.relu(torch.cat((x1, x2), dim=1))\n",
        "            return x\n",
        "    class NetConv(nn.Module):\n",
        "        def __init__(self, out_channels):\n",
        "            super(NetConv, self).__init__()\n",
        "            self.conv1 = nn.Conv2d(in_channels=3, out_channels=96, kernel_size=7, stride=2)\n",
        "            self.max_pool1 = nn.MaxPool2d(kernel_size=3, stride=2)\n",
        "\n",
        "            self.fire2 = FireModule(in_channels=96, s1x1=16, e1x1=64, e3x3=64)\n",
        "            self.fire3 = FireModule(in_channels=128, s1x1=16, e1x1=64, e3x3=64)\n",
        "            self.fire4 = FireModule(in_channels=128, s1x1=32, e1x1=128, e3x3=128)\n",
        "            self.max_pool2 = nn.MaxPool2d(kernel_size=3, stride=2)\n",
        "\n",
        "            self.fire5 = FireModule(in_channels=256, s1x1=32, e1x1=128, e3x3=128)\n",
        "            self.fire6 = FireModule(in_channels=256, s1x1=48, e1x1=192, e3x3=192)\n",
        "            self.fire7 = FireModule(in_channels=384, s1x1=48, e1x1=192, e3x3=192)\n",
        "            self.fire8 = FireModule(in_channels=384, s1x1=64, e1x1=256, e3x3=256)\n",
        "            self.max_pool3 = nn.MaxPool2d(kernel_size=3, stride=2)\n",
        "\n",
        "            self.fire9 = FireModule(in_channels=512, s1x1=64, e1x1=256, e3x3=256)\n",
        "            self.dropout = nn.Dropout(p=0.5)\n",
        "            self.conv10 = nn.Conv2d(in_channels=512, out_channels=out_channels, kernel_size=1, stride=1)\n",
        "            self.avg_pool = nn.AvgPool2d(kernel_size=12, stride=1)\n",
        "            # We don't have FC Layers, inspired by NiN architecture.\n",
        "\n",
        "        def forward(self, x):\n",
        "            # First max pool after conv1\n",
        "            x = self.max_pool1(self.conv1(x))\n",
        "            # Second max pool after fire4\n",
        "            x = self.max_pool2(self.fire4(self.fire3(self.fire2(x))))\n",
        "            # Third max pool after fire8\n",
        "            x = self.max_pool3(self.fire8(self.fire7(self.fire6(self.fire5(x)))))\n",
        "            # Final pool (avg in this case) after conv10\n",
        "            x = self.avg_pool(self.conv10(self.fire9(x)))\n",
        "            return torch.flatten(x, start_dim=1)"
      ]
    },
    {
      "cell_type": "code",
      "execution_count": 27,
      "metadata": {
        "id": "mQSEZSebvtbm"
      },
      "outputs": [],
      "source": [
        "for i in name_conv_net_exp:\n",
        "    if experiment_name == i:\n",
        "        # net = NetConv(num_classes)\n",
        "        net = NetConv()\n",
        "        net.to(device)"
      ]
    },
    {
      "cell_type": "markdown",
      "metadata": {
        "id": "JOHGXsXBvtbn"
      },
      "source": [
        "## 4. Funciones de activacion"
      ]
    },
    {
      "cell_type": "markdown",
      "metadata": {
        "id": "nLe6qX77vtbn"
      },
      "source": [
        "vamos a utilizar ResNet-18 la cal presente mejor rendimiento de las arquitecturas CNN. Ahora en esta etapa ba vamos a experimentar con otra funciones de activacion."
      ]
    },
    {
      "cell_type": "code",
      "execution_count": 28,
      "metadata": {
        "id": "RmXo-0ZXqmY8"
      },
      "outputs": [],
      "source": [
        "activacion_experiment = True\n",
        "experiment_name = 'CNN_ResNet-18'"
      ]
    },
    {
      "cell_type": "code",
      "execution_count": 29,
      "metadata": {
        "id": "pcWSYh2evtbn"
      },
      "outputs": [],
      "source": [
        "funcion_activacion = 'relu6'\n",
        "#leaky_relu\n",
        "#relu\n",
        "#relu6\n",
        "#softsign\n",
        "#elu\n",
        "#tanh\n",
        "#silu\n",
        "#sigmoid\n",
        "#softplus\n",
        "#softmax\n",
        "\n",
        "\n",
        "if experiment_name == \"CNN_ResNet-18\" and activacion_experiment:\n",
        "  # Define the basic residual block\n",
        "    class BasicBlock(nn.Module):\n",
        "        expansion = 1\n",
        "\n",
        "        def __init__(self, in_planes, planes, stride=1):\n",
        "            super(BasicBlock, self).__init__()\n",
        "            self.conv1 = nn.Conv2d(in_planes, planes, kernel_size=3, stride=stride, padding=1, bias=False)\n",
        "            self.bn1 = nn.BatchNorm2d(planes)\n",
        "            self.conv2 = nn.Conv2d(planes, planes, kernel_size=3, stride=1, padding=1, bias=False)\n",
        "            self.bn2 = nn.BatchNorm2d(planes)\n",
        "            self.shortcut = nn.Sequential()\n",
        "            if stride != 1 or in_planes != self.expansion*planes:\n",
        "                self.shortcut = nn.Sequential(\n",
        "                    nn.Conv2d(in_planes, self.expansion*planes, kernel_size=1, stride=stride, bias=False),\n",
        "                    nn.BatchNorm2d(self.expansion*planes)\n",
        "                )\n",
        "\n",
        "        def forward(self, x):\n",
        "            out = F.relu6(self.bn1(self.conv1(x)))\n",
        "            out = self.bn2(self.conv2(out))\n",
        "            out += self.shortcut(x)\n",
        "            out = F.relu6(out)\n",
        "            return out\n",
        "\n",
        "    # Define the ResNet-18 model\n",
        "    class NetConv(nn.Module):\n",
        "        def __init__(self, num_classes=10):\n",
        "            super(NetConv, self).__init__()\n",
        "            self.in_planes = 64\n",
        "\n",
        "            self.conv1 = nn.Conv2d(3, 64, kernel_size=3, stride=1, padding=1, bias=False)\n",
        "            self.bn1 = nn.BatchNorm2d(64)\n",
        "            self.layer1 = self._make_layer(BasicBlock, 64, 2, stride=1)\n",
        "            self.layer2 = self._make_layer(BasicBlock, 128, 2, stride=2)\n",
        "            self.layer3 = self._make_layer(BasicBlock, 256, 2, stride=2)\n",
        "            self.layer4 = self._make_layer(BasicBlock, 512, 2, stride=2)\n",
        "            self.avgpool = nn.AdaptiveAvgPool2d((1, 1))\n",
        "            self.fc = nn.Linear(512, num_classes)\n",
        "\n",
        "        def _make_layer(self, block, planes, num_blocks, stride):\n",
        "            strides = [stride] + [1]*(num_blocks-1)\n",
        "            layers = []\n",
        "            for stride in strides:\n",
        "                layers.append(block(self.in_planes, planes, stride))\n",
        "                self.in_planes = planes * block.expansion\n",
        "            return nn.Sequential(*layers)\n",
        "\n",
        "        def forward(self, x):\n",
        "            x = F.relu6(self.bn1(self.conv1(x)))\n",
        "            x = self.layer1(x)\n",
        "            x = self.layer2(x)\n",
        "            x = self.layer3(x)\n",
        "            x = self.layer4(x)\n",
        "            x = self.avgpool(x)\n",
        "            x = x.view(x.size(0), -1)\n",
        "            x = self.fc(x)\n",
        "            return x\n",
        "\n",
        "    net = NetConv()\n",
        "    net.to(device)\n",
        "\n"
      ]
    },
    {
      "cell_type": "markdown",
      "metadata": {
        "id": "v9DXbZ44vtbn"
      },
      "source": [
        "## 5. Optimizadores\n",
        "Realizar experimentos evaluando distintos optimizadores, schedulers y reportar el mejor y peor experimento. ¿Qué estrategia utilizaron? ¿Qué resultados obtuvieron?"
      ]
    },
    {
      "cell_type": "code",
      "execution_count": 30,
      "metadata": {
        "id": "usZ9P-zl_i0Z"
      },
      "outputs": [],
      "source": [
        "optimizar = False"
      ]
    },
    {
      "cell_type": "code",
      "execution_count": 31,
      "metadata": {
        "id": "ShJB0KFLvtbn"
      },
      "outputs": [],
      "source": [
        "if optimizar:\n",
        "  # funcion_activacion = 'leaky_relu'\n",
        "  ## Parámetros de entrenamiento\n",
        "  learning_rate = 0.02\n",
        "  momentum = 0.9\n",
        "  epochs = 10\n",
        "\n",
        "  # Optimizador y función de pérdida\n",
        "  criterion = nn.CrossEntropyLoss()\n",
        "\n",
        "  # optimizer = optim.SGD(net.parameters(), lr=learning_rate, momentum=momentum)\n",
        "  optimizer = optim.Adam(net.parameters(), lr=learning_rate)\n",
        "  # optimizer = optim.Adagrad(net.parameters(), lr=learning_rate, lr_decay=0.005, weight_decay=0.005)\n",
        "  # optimizer = optim.RMSprop(net.parameters(), lr=learning_rate, momentum=momentum, weight_decay=0.005)\n",
        "  # optimizer = optim.Adadelta(net.parameters(), lr=learning_rate, rho=0.9, eps=1e-06, weight_decay=0.005)\n"
      ]
    },
    {
      "cell_type": "markdown",
      "metadata": {
        "id": "IeAJkemu_ckn"
      },
      "source": [
        "## 6. Entrenamiento - Mejora de parametros (lr, epochs, batchsize)\n",
        "Realizar experimentos evaluando distintos batch-sizes, epochs y reportar el mejor y peor experimento. ¿Qué resultados obtuvieron?"
      ]
    },
    {
      "cell_type": "code",
      "execution_count": 32,
      "metadata": {
        "id": "1Ae46pRh_7uh"
      },
      "outputs": [],
      "source": [
        "mejoras_lr = True"
      ]
    },
    {
      "cell_type": "code",
      "execution_count": 33,
      "metadata": {
        "id": "DyXoWHTN_-5E"
      },
      "outputs": [],
      "source": [
        "if mejoras_lr:\n",
        "  funcion_activacion = 'relu6'\n",
        "  ## Parámetros de entrenamiento\n",
        "  # batch_size HAY QU CAMBIARLO EN LA PARTE DE CONFIGURACION\n",
        "  learning_rate = 0.02\n",
        "  momentum = 0.9\n",
        "  epochs = 10\n",
        "\n",
        "  # Optimizador y función de pérdida\n",
        "  criterion = nn.CrossEntropyLoss()\n",
        "\n",
        "  optimizer = optim.SGD(net.parameters(), lr=learning_rate, momentum=momentum)\n",
        "  # optimizer = optim.Adam(net.parameters(), lr=learning_rate)\n",
        "  # optimizer = optim.Adagrad(net.parameters(), lr=learning_rate, lr_decay=0.005, weight_decay=0.005)\n",
        "  # optimizer = optim.RMSprop(net.parameters(), lr=learning_rate, momentum=momentum, weight_decay=0.005)\n",
        "  # optimizer = optim.Adadelta(net.parameters(), lr=learning_rate, rho=0.9, eps=1e-06, weight_decay=0.005)"
      ]
    },
    {
      "cell_type": "markdown",
      "metadata": {
        "id": "RkQt8vYsvtb4"
      },
      "source": [
        "## 7. Regularización\n",
        "Evaluar alguna(s) técnica(s) de regularización. ¿Qué resultados obtuvieron?"
      ]
    },
    {
      "cell_type": "code",
      "execution_count": 34,
      "metadata": {
        "id": "AfR_38hqASlz"
      },
      "outputs": [],
      "source": [
        "regularizadores = False"
      ]
    },
    {
      "cell_type": "code",
      "execution_count": 35,
      "metadata": {
        "id": "6VQw2uwnvtb4"
      },
      "outputs": [],
      "source": [
        "#podemos hacer data agumentation (OPCIONAL - no lo piden)\n",
        "#ver que hacer de regularizacion, leeer la clase y averiguar que pija se hace porque no se\n",
        "# dejar el mejor scheduler para la mejor arquitectura hasta el momento\n",
        "\n",
        "\n",
        "\n",
        "if experiment_name == \"CNN_ResNet-18\" and regularizadores:\n",
        "  # Define the basic residual block\n",
        "    class BasicBlock(nn.Module):\n",
        "        expansion = 1\n",
        "\n",
        "        def __init__(self, in_planes, planes, stride=1):\n",
        "            super(BasicBlock, self).__init__()\n",
        "            self.conv1 = nn.Conv2d(in_planes, planes, kernel_size=3, stride=stride, padding=1, bias=False)\n",
        "            self.bn1 = nn.BatchNorm2d(planes)\n",
        "            self.conv2 = nn.Conv2d(planes, planes, kernel_size=3, stride=1, padding=1, bias=False)\n",
        "            self.bn2 = nn.BatchNorm2d(planes)\n",
        "            self.shortcut = nn.Sequential()\n",
        "            if stride != 1 or in_planes != self.expansion*planes:\n",
        "                self.shortcut = nn.Sequential(\n",
        "                    nn.Conv2d(in_planes, self.expansion*planes, kernel_size=1, stride=stride, bias=False),\n",
        "                    nn.BatchNorm2d(self.expansion*planes)\n",
        "                )\n",
        "\n",
        "        def forward(self, x):\n",
        "            out = F.relu6(self.bn1(self.conv1(x)))\n",
        "            out = self.bn2(self.conv2(out))\n",
        "            out += self.shortcut(x)\n",
        "            out = F.relu6(out)\n",
        "            return out\n",
        "\n",
        "    # Define the ResNet-18 model\n",
        "    class NetConv(nn.Module):\n",
        "        def __init__(self, num_classes=10):\n",
        "            super(NetConv, self).__init__()\n",
        "            self.in_planes = 64\n",
        "\n",
        "            self.conv1 = nn.Conv2d(3, 64, kernel_size=3, stride=1, padding=1, bias=False)\n",
        "            self.bn1 = nn.BatchNorm2d(64)\n",
        "            self.layer1 = self._make_layer(BasicBlock, 64, 2, stride=1)\n",
        "            self.layer2 = self._make_layer(BasicBlock, 128, 2, stride=2)\n",
        "            self.layer3 = self._make_layer(BasicBlock, 256, 2, stride=2)\n",
        "            self.layer4 = self._make_layer(BasicBlock, 512, 2, stride=2)\n",
        "            self.avgpool = nn.AdaptiveAvgPool2d((1, 1))\n",
        "            self.fc = nn.Linear(512, num_classes)\n",
        "\n",
        "        def _make_layer(self, block, planes, num_blocks, stride):\n",
        "            strides = [stride] + [1]*(num_blocks-1)\n",
        "            layers = []\n",
        "            for stride in strides:\n",
        "                layers.append(block(self.in_planes, planes, stride))\n",
        "                self.in_planes = planes * block.expansion\n",
        "            return nn.Sequential(*layers)\n",
        "\n",
        "        def forward(self, x):\n",
        "            x = F.relu6(self.bn1(self.conv1(x)))\n",
        "            x = self.layer1(x)\n",
        "            x = self.layer2(x)\n",
        "            x = self.layer3(x)\n",
        "            x = self.layer4(x)\n",
        "            x = self.avgpool(x)\n",
        "            x = x.view(x.size(0), -1)\n",
        "            x = self.fc(x)\n",
        "            return x\n",
        "\n",
        "    net = NetConv()\n",
        "    net.to(device)\n"
      ]
    },
    {
      "cell_type": "markdown",
      "metadata": {
        "id": "f_9LEzhcvtb1"
      },
      "source": [
        "## 8. Entrenamiento"
      ]
    },
    {
      "cell_type": "markdown",
      "metadata": {
        "id": "EnGWVWj0vtb1"
      },
      "source": [
        "### Entrenamos"
      ]
    },
    {
      "cell_type": "code",
      "execution_count": 36,
      "metadata": {
        "colab": {
          "base_uri": "https://localhost:8080/",
          "height": 35
        },
        "id": "qgI_eIwXvtb1",
        "outputId": "372b1f85-f12a-4a0f-86d5-e542374b661a"
      },
      "outputs": [
        {
          "data": {
            "text/plain": [
              "'CNN_ResNet-18'"
            ]
          },
          "execution_count": 36,
          "metadata": {},
          "output_type": "execute_result"
        }
      ],
      "source": [
        "experiment_name\n"
      ]
    },
    {
      "cell_type": "code",
      "execution_count": 37,
      "metadata": {
        "colab": {
          "base_uri": "https://localhost:8080/",
          "height": 35
        },
        "id": "hvHcBio0vtb2",
        "outputId": "b220629a-55c2-4064-b8be-5b1652aff5e4"
      },
      "outputs": [
        {
          "data": {
            "text/plain": [
              "'CNN_ResNet-18 relu6 SGD'"
            ]
          },
          "execution_count": 37,
          "metadata": {},
          "output_type": "execute_result"
        }
      ],
      "source": [
        "experiment_name += \" \" +funcion_activacion +\" \"+ optimizer.__class__.__name__\n",
        "experiment_name\n"
      ]
    },
    {
      "cell_type": "code",
      "execution_count": 38,
      "metadata": {
        "colab": {
          "base_uri": "https://localhost:8080/",
          "height": 125
        },
        "id": "fndXKJmtvtb2",
        "outputId": "56fbc6d4-f62a-404f-98ee-ab8d3ef7a222"
      },
      "outputs": [
        {
          "data": {
            "text/html": [
              "Tracking run with wandb version 0.15.12"
            ],
            "text/plain": [
              "<IPython.core.display.HTML object>"
            ]
          },
          "metadata": {},
          "output_type": "display_data"
        },
        {
          "data": {
            "text/html": [
              "Run data is saved locally in <code>c:\\Users\\oltie\\OneDrive\\Escritorio\\DiTella\\6to_Semestre_23\\TD6\\TP3  Consignas y recursos-20231024\\tp3_td6\\wandb\\run-20231104_005101-78dqqvz9</code>"
            ],
            "text/plain": [
              "<IPython.core.display.HTML object>"
            ]
          },
          "metadata": {},
          "output_type": "display_data"
        },
        {
          "data": {
            "text/html": [
              "Syncing run <strong><a href='https://wandb.ai/chicas_superpoderosas/TP3/runs/78dqqvz9' target=\"_blank\">CNN_ResNet-18 relu6 SGD</a></strong> to <a href='https://wandb.ai/chicas_superpoderosas/TP3' target=\"_blank\">Weights & Biases</a> (<a href='https://wandb.me/run' target=\"_blank\">docs</a>)<br/>"
            ],
            "text/plain": [
              "<IPython.core.display.HTML object>"
            ]
          },
          "metadata": {},
          "output_type": "display_data"
        },
        {
          "data": {
            "text/html": [
              " View project at <a href='https://wandb.ai/chicas_superpoderosas/TP3' target=\"_blank\">https://wandb.ai/chicas_superpoderosas/TP3</a>"
            ],
            "text/plain": [
              "<IPython.core.display.HTML object>"
            ]
          },
          "metadata": {},
          "output_type": "display_data"
        },
        {
          "data": {
            "text/html": [
              " View run at <a href='https://wandb.ai/chicas_superpoderosas/TP3/runs/78dqqvz9' target=\"_blank\">https://wandb.ai/chicas_superpoderosas/TP3/runs/78dqqvz9</a>"
            ],
            "text/plain": [
              "<IPython.core.display.HTML object>"
            ]
          },
          "metadata": {},
          "output_type": "display_data"
        },
        {
          "data": {
            "text/html": [
              "<button onClick=\"this.nextSibling.style.display='block';this.style.display='none';\">Display W&B run</button><iframe src='https://wandb.ai/chicas_superpoderosas/TP3/runs/78dqqvz9?jupyter=true' style='border:none;width:100%;height:420px;display:none;'></iframe>"
            ],
            "text/plain": [
              "<wandb.sdk.wandb_run.Run at 0x1c8aa017e20>"
            ]
          },
          "execution_count": 38,
          "metadata": {},
          "output_type": "execute_result"
        }
      ],
      "source": [
        "wandb.finish()\n",
        "wandb.init(\n",
        "    # seteamos el projecto donde se va a guardar el experimento en wandb\n",
        "    project=project_name,\n",
        "    name=experiment_name,\n",
        "\n",
        "    # trackeamos los hiperparámetros y las métricas\n",
        "    config={\n",
        "        \"learning_rate\": learning_rate,\n",
        "        \"momentum\": momentum,\n",
        "        \"batch_size\": batch_size,\n",
        "        \"epochs\": epochs,\n",
        "    },\n",
        ")\n"
      ]
    },
    {
      "cell_type": "code",
      "execution_count": 39,
      "metadata": {
        "colab": {
          "base_uri": "https://localhost:8080/",
          "height": 1000,
          "referenced_widgets": [
            "fe01f7c3d4804fbe95750c0433ff97e3",
            "2ae1d7a3acc9417daf79bba38e5ad521",
            "809938bd2c5a4887a4eb200795cae049",
            "26456f8a49ed4e3cb16e1916e8e004fc",
            "df353d8c10b744208f37376e2a319348",
            "a0bf9ab8eba944299dab612be8a235e8",
            "c575d8c8a7d3469693a3ddc08320ce29",
            "351a861afeef4915bc3e361421313d28"
          ]
        },
        "id": "0FD07JjAvtb2",
        "outputId": "ecc1ae7a-fba0-4fd2-bf7c-ef00002f8d45"
      },
      "outputs": [
        {
          "data": {
            "text/html": [
              "Waiting for W&B process to finish... <strong style=\"color:green\">(success).</strong>"
            ],
            "text/plain": [
              "<IPython.core.display.HTML object>"
            ]
          },
          "metadata": {},
          "output_type": "display_data"
        },
        {
          "data": {
            "application/vnd.jupyter.widget-view+json": {
              "model_id": "fb1edbb3a7144da595dd8152549fa1e1",
              "version_major": 2,
              "version_minor": 0
            },
            "text/plain": [
              "VBox(children=(Label(value='0.001 MB of 0.001 MB uploaded (0.000 MB deduped)\\r'), FloatProgress(value=1.0, max…"
            ]
          },
          "metadata": {},
          "output_type": "display_data"
        },
        {
          "data": {
            "text/html": [
              " View run <strong style=\"color:#cdcd00\">CNN_ResNet-18 relu6 SGD</strong> at: <a href='https://wandb.ai/chicas_superpoderosas/TP3/runs/78dqqvz9' target=\"_blank\">https://wandb.ai/chicas_superpoderosas/TP3/runs/78dqqvz9</a><br/>Synced 4 W&B file(s), 0 media file(s), 0 artifact file(s) and 0 other file(s)"
            ],
            "text/plain": [
              "<IPython.core.display.HTML object>"
            ]
          },
          "metadata": {},
          "output_type": "display_data"
        },
        {
          "data": {
            "text/html": [
              "Find logs at: <code>.\\wandb\\run-20231104_005101-78dqqvz9\\logs</code>"
            ],
            "text/plain": [
              "<IPython.core.display.HTML object>"
            ]
          },
          "metadata": {},
          "output_type": "display_data"
        },
        {
          "ename": "KeyboardInterrupt",
          "evalue": "",
          "output_type": "error",
          "traceback": [
            "\u001b[1;31m---------------------------------------------------------------------------\u001b[0m",
            "\u001b[1;31mKeyboardInterrupt\u001b[0m                         Traceback (most recent call last)",
            "\u001b[1;32mc:\\Users\\oltie\\OneDrive\\Escritorio\\DiTella\\6to_Semestre_23\\TD6\\TP3  Consignas y recursos-20231024\\tp3_td6\\TP3.ipynb Cell 54\u001b[0m line \u001b[0;36m<cell line: 1>\u001b[1;34m()\u001b[0m\n\u001b[0;32m     <a href='vscode-notebook-cell:/c%3A/Users/oltie/OneDrive/Escritorio/DiTella/6to_Semestre_23/TD6/TP3%20%20Consignas%20y%20recursos-20231024/tp3_td6/TP3.ipynb#Y104sZmlsZQ%3D%3D?line=15'>16</a>\u001b[0m outputs \u001b[39m=\u001b[39m net(inputs)\n\u001b[0;32m     <a href='vscode-notebook-cell:/c%3A/Users/oltie/OneDrive/Escritorio/DiTella/6to_Semestre_23/TD6/TP3%20%20Consignas%20y%20recursos-20231024/tp3_td6/TP3.ipynb#Y104sZmlsZQ%3D%3D?line=16'>17</a>\u001b[0m loss \u001b[39m=\u001b[39m criterion(outputs, labels)\n\u001b[1;32m---> <a href='vscode-notebook-cell:/c%3A/Users/oltie/OneDrive/Escritorio/DiTella/6to_Semestre_23/TD6/TP3%20%20Consignas%20y%20recursos-20231024/tp3_td6/TP3.ipynb#Y104sZmlsZQ%3D%3D?line=17'>18</a>\u001b[0m loss\u001b[39m.\u001b[39;49mbackward()\n\u001b[0;32m     <a href='vscode-notebook-cell:/c%3A/Users/oltie/OneDrive/Escritorio/DiTella/6to_Semestre_23/TD6/TP3%20%20Consignas%20y%20recursos-20231024/tp3_td6/TP3.ipynb#Y104sZmlsZQ%3D%3D?line=18'>19</a>\u001b[0m optimizer\u001b[39m.\u001b[39mstep()\n\u001b[0;32m     <a href='vscode-notebook-cell:/c%3A/Users/oltie/OneDrive/Escritorio/DiTella/6to_Semestre_23/TD6/TP3%20%20Consignas%20y%20recursos-20231024/tp3_td6/TP3.ipynb#Y104sZmlsZQ%3D%3D?line=20'>21</a>\u001b[0m \u001b[39m# print statistics\u001b[39;00m\n",
            "File \u001b[1;32mc:\\Users\\oltie\\AppData\\Local\\Programs\\Python\\Python310\\lib\\site-packages\\torch\\_tensor.py:492\u001b[0m, in \u001b[0;36mTensor.backward\u001b[1;34m(self, gradient, retain_graph, create_graph, inputs)\u001b[0m\n\u001b[0;32m    482\u001b[0m \u001b[39mif\u001b[39;00m has_torch_function_unary(\u001b[39mself\u001b[39m):\n\u001b[0;32m    483\u001b[0m     \u001b[39mreturn\u001b[39;00m handle_torch_function(\n\u001b[0;32m    484\u001b[0m         Tensor\u001b[39m.\u001b[39mbackward,\n\u001b[0;32m    485\u001b[0m         (\u001b[39mself\u001b[39m,),\n\u001b[1;32m   (...)\u001b[0m\n\u001b[0;32m    490\u001b[0m         inputs\u001b[39m=\u001b[39minputs,\n\u001b[0;32m    491\u001b[0m     )\n\u001b[1;32m--> 492\u001b[0m torch\u001b[39m.\u001b[39;49mautograd\u001b[39m.\u001b[39;49mbackward(\n\u001b[0;32m    493\u001b[0m     \u001b[39mself\u001b[39;49m, gradient, retain_graph, create_graph, inputs\u001b[39m=\u001b[39;49minputs\n\u001b[0;32m    494\u001b[0m )\n",
            "File \u001b[1;32mc:\\Users\\oltie\\AppData\\Local\\Programs\\Python\\Python310\\lib\\site-packages\\torch\\autograd\\__init__.py:251\u001b[0m, in \u001b[0;36mbackward\u001b[1;34m(tensors, grad_tensors, retain_graph, create_graph, grad_variables, inputs)\u001b[0m\n\u001b[0;32m    246\u001b[0m     retain_graph \u001b[39m=\u001b[39m create_graph\n\u001b[0;32m    248\u001b[0m \u001b[39m# The reason we repeat the same comment below is that\u001b[39;00m\n\u001b[0;32m    249\u001b[0m \u001b[39m# some Python versions print out the first line of a multi-line function\u001b[39;00m\n\u001b[0;32m    250\u001b[0m \u001b[39m# calls in the traceback and some print out the last line\u001b[39;00m\n\u001b[1;32m--> 251\u001b[0m Variable\u001b[39m.\u001b[39;49m_execution_engine\u001b[39m.\u001b[39;49mrun_backward(  \u001b[39m# Calls into the C++ engine to run the backward pass\u001b[39;49;00m\n\u001b[0;32m    252\u001b[0m     tensors,\n\u001b[0;32m    253\u001b[0m     grad_tensors_,\n\u001b[0;32m    254\u001b[0m     retain_graph,\n\u001b[0;32m    255\u001b[0m     create_graph,\n\u001b[0;32m    256\u001b[0m     inputs,\n\u001b[0;32m    257\u001b[0m     allow_unreachable\u001b[39m=\u001b[39;49m\u001b[39mTrue\u001b[39;49;00m,\n\u001b[0;32m    258\u001b[0m     accumulate_grad\u001b[39m=\u001b[39;49m\u001b[39mTrue\u001b[39;49;00m,\n\u001b[0;32m    259\u001b[0m )\n",
            "\u001b[1;31mKeyboardInterrupt\u001b[0m: "
          ]
        }
      ],
      "source": [
        "try:\n",
        "    for epoch in range(epochs):  # loop over the dataset multiple times\n",
        "        # ---------------- SECCION DE TRAIN -----------------\n",
        "        running_loss = 0.0\n",
        "        train_correct = 0\n",
        "        total = 0\n",
        "        for i, data in enumerate(trainloader, 0):\n",
        "            # get the inputs; data is a list of [inputs, labels]\n",
        "            #inputs, labels = data\n",
        "            inputs, labels = data[0].to(device), data[1].to(device)\n",
        "\n",
        "            # zero the parameter gradients\n",
        "            optimizer.zero_grad()\n",
        "\n",
        "            # forward + backward + optimize\n",
        "            outputs = net(inputs)\n",
        "            loss = criterion(outputs, labels)\n",
        "            loss.backward()\n",
        "            optimizer.step()\n",
        "\n",
        "            # print statistics\n",
        "            running_loss += loss.item()\n",
        "            if i % 200 == 199:    # print every 200 mini-batches\n",
        "                print(f'[{epoch + 1}, {i + 1:5d}] loss: {running_loss / 2000:.3f}')\n",
        "\n",
        "\n",
        "            _, predicted = torch.max(outputs.data, 1)\n",
        "            total += labels.size(0)\n",
        "            train_correct += (predicted == labels).sum().item()\n",
        "\n",
        "\n",
        "        # End of test section\n",
        "        # Val section\n",
        "        train_accuracy = 100 * train_correct / total\n",
        "        running_loss = running_loss/total\n",
        "\n",
        "        # ---------------- SECCION DE VALIDACION ----------------\n",
        "        val_correct = 0\n",
        "        total =0\n",
        "        val_loss =0\n",
        "        # since we're not training, we don't need to calculate the gradients for our outputs\n",
        "        with torch.no_grad():\n",
        "            for data in valloader:\n",
        "                images, labels = data[0].to(device), data[1].to(device)\n",
        "                # calculate outputs by running images through the network\n",
        "                outputs = net(images)\n",
        "                # the class with the highest energy is what we choose as prediction\n",
        "                _, predicted = torch.max(outputs.data, 1)\n",
        "                total += labels.size(0)\n",
        "                val_correct += (predicted == labels).sum().item()\n",
        "                val_loss += criterion(outputs, labels).item()\n",
        "\n",
        "        # End of test section\n",
        "\n",
        "        val_accuracy = 100 * val_correct /total\n",
        "        val_loss = val_loss / total\n",
        "\n",
        "        wandb.log({\n",
        "            \"train_accuracy\": train_accuracy,\n",
        "            \"val_accuracy\": val_accuracy,\n",
        "            \"train_loss\": running_loss,\n",
        "            \"val_loss\": val_loss})\n",
        "\n",
        "    print('Finished Training')\n",
        "except Exception as e:\n",
        "    print(e)\n",
        "finally:\n",
        "    wandb.finish()\n"
      ]
    },
    {
      "cell_type": "code",
      "execution_count": null,
      "metadata": {
        "id": "2pVrVXWtvtb3"
      },
      "outputs": [],
      "source": [
        "wandb.finish()"
      ]
    },
    {
      "cell_type": "markdown",
      "metadata": {
        "id": "Epr4YAsbvtb3"
      },
      "source": [
        "Ejemplo de guardar el modelo. Sin embargo lo deberiamos guardar para el que mejor dio en validation."
      ]
    },
    {
      "cell_type": "code",
      "execution_count": null,
      "metadata": {
        "id": "CmIJdNjVvtb3",
        "outputId": "4e75cf75-d0b6-4924-c25f-c4c512f0d615"
      },
      "outputs": [
        {
          "ename": "NameError",
          "evalue": "name 'torch' is not defined",
          "output_type": "error",
          "traceback": [
            "\u001b[1;31m---------------------------------------------------------------------------\u001b[0m",
            "\u001b[1;31mNameError\u001b[0m                                 Traceback (most recent call last)",
            "\u001b[1;32mc:\\Users\\oltie\\OneDrive\\Escritorio\\DiTella\\6to_Semestre_23\\TD6\\TP3  Consignas y recursos-20231024\\tp3_td6\\TP3.ipynb Cell 42\u001b[0m line \u001b[0;36m<cell line: 2>\u001b[1;34m()\u001b[0m\n\u001b[0;32m      <a href='vscode-notebook-cell:/c%3A/Users/oltie/OneDrive/Escritorio/DiTella/6to_Semestre_23/TD6/TP3%20%20Consignas%20y%20recursos-20231024/tp3_td6/TP3.ipynb#X54sZmlsZQ%3D%3D?line=0'>1</a>\u001b[0m PATH \u001b[39m=\u001b[39m \u001b[39m'\u001b[39m\u001b[39m./cifar_vgg_16_net.pth\u001b[39m\u001b[39m'\u001b[39m\n\u001b[1;32m----> <a href='vscode-notebook-cell:/c%3A/Users/oltie/OneDrive/Escritorio/DiTella/6to_Semestre_23/TD6/TP3%20%20Consignas%20y%20recursos-20231024/tp3_td6/TP3.ipynb#X54sZmlsZQ%3D%3D?line=1'>2</a>\u001b[0m torch\u001b[39m.\u001b[39msave(net\u001b[39m.\u001b[39mstate_dict(), PATH)\n",
            "\u001b[1;31mNameError\u001b[0m: name 'torch' is not defined"
          ]
        }
      ],
      "source": [
        "PATH = './cifar_vgg_16_net.pth'\n",
        "torch.save(net.state_dict(), PATH)"
      ]
    },
    {
      "cell_type": "markdown",
      "metadata": {
        "id": "b8qO-Sl6vtb4"
      },
      "source": [
        "## 9. Evaluación final\n",
        "Evaluar el mejor modelo, es decir, el mejor de los ejercicios anteriores, con el set de test."
      ]
    },
    {
      "cell_type": "code",
      "execution_count": null,
      "metadata": {
        "id": "R8Sag_Zmvtb4",
        "outputId": "f99be86e-a1e5-420a-bf07-98797a257b57"
      },
      "outputs": [
        {
          "data": {
            "image/png": "[encoded data removed]",
            "text/plain": [
              "<Figure size 640x480 with 1 Axes>"
            ]
          },
          "metadata": {},
          "output_type": "display_data"
        },
        {
          "name": "stdout",
          "output_type": "stream",
          "text": [
            "GroundTruth:  cat   ship  ship  plane frog  frog  car   frog  cat   car  \n",
            "Predicted:  dog   ship  ship  ship \n",
            "Accuracy of the network on the 10000 test test_images: 67 %\n",
            "Accuracy for class: plane is 73.5 %\n",
            "Accuracy for class: car   is 88.1 %\n",
            "Accuracy for class: bird  is 42.3 %\n",
            "Accuracy for class: cat   is 56.7 %\n",
            "Accuracy for class: deer  is 65.6 %\n",
            "Accuracy for class: dog   is 49.7 %\n",
            "Accuracy for class: frog  is 80.2 %\n",
            "Accuracy for class: horse is 78.8 %\n",
            "Accuracy for class: ship  is 83.2 %\n",
            "Accuracy for class: truck is 65.3 %\n"
          ]
        }
      ],
      "source": [
        "#Cargamos el modelo (el mejor) y evaluamos en un ejemplo\n",
        "#net = Net()\n",
        "#net.load_state_dict(torch.load(PATH))\n",
        "\n",
        "dataiter = iter(testloader)\n",
        "data = next(dataiter)\n",
        "test_images, test_labels = data\n",
        "\n",
        "# print test_images\n",
        "imshow(torchvision.utils.make_grid(test_images))\n",
        "print(\"GroundTruth: \", \" \".join(f\"{classes[test_labels[j]]:5s}\" for j in range(batch_size)))\n",
        "\n",
        "test_images, test_labels = data[0].to(device), data[1].to(device)\n",
        "outputs = net(test_images)\n",
        "_, predicted = torch.max(outputs, 1)\n",
        "\n",
        "print('Predicted: ', ' '.join(f'{classes[predicted[j]]:5s}'\n",
        "                              for j in range(4)))\n",
        "\n",
        "correct = 0\n",
        "total = 0\n",
        "\n",
        "# since we're not training, we don't need to calculate the gradients for our outputs\n",
        "with torch.no_grad():\n",
        "    for data in testloader:\n",
        "        test_images, test_labels = data[0].to(device), data[1].to(device)\n",
        "        # calculate outputs by running test_images through the network\n",
        "        outputs = net(test_images)\n",
        "        # the class with the highest energy is what we choose as prediction\n",
        "        _, predicted = torch.max(outputs.data, 1)\n",
        "        total += test_labels.size(0)\n",
        "        correct += (predicted == test_labels).sum().item()\n",
        "\n",
        "print(f\"Accuracy of the network on the 10000 test test_images: {100 * correct // total} %\")\n"
      ]
    },
    {
      "cell_type": "code",
      "execution_count": null,
      "metadata": {
        "id": "aQDFnhkAvtb5"
      },
      "outputs": [],
      "source": [
        "\n",
        "# prepare to count predictions for each class\n",
        "correct_pred = {classname: 0 for classname in classes}\n",
        "total_pred = {classname: 0 for classname in classes}\n",
        "\n",
        "# again no gradients needed\n",
        "with torch.no_grad():\n",
        "    for data in testloader:\n",
        "        test_images, testloader = data[0].to(device), data[1].to(device)\n",
        "        outputs = net(test_images)\n",
        "        _, predictions = torch.max(outputs, 1)\n",
        "        # collect the correct predictions for each class\n",
        "        for label, prediction in zip(test_labels, predictions):\n",
        "            if label == prediction:\n",
        "                correct_pred[classes[label]] += 1\n",
        "            total_pred[classes[label]] += 1\n",
        "\n",
        "\n",
        "# print accuracy for each class\n",
        "for classname, correct_count in correct_pred.items():\n",
        "    accuracy = 100 * float(correct_count) / total_pred[classname]\n",
        "    print(f\"Accuracy for class: {classname:5s} is {accuracy:.1f} %\")\n"
      ]
    }
  ],
  "metadata": {
    "accelerator": "GPU",
    "colab": {
      "collapsed_sections": [
        "D3MW_SgnvtbY",
        "-H8TvZomvtbh",
        "zBMXuN4Gvtbi",
        "dflI3lY5vtbi",
        "vsgLRqfcvtbi",
        "Slzn6-pqvtbk",
        "JOHGXsXBvtbn",
        "v9DXbZ44vtbn",
        "RkQt8vYsvtb4"
      ],
      "provenance": []
    },
    "kernelspec": {
      "display_name": "Python 3",
      "name": "python3"
    },
    "language_info": {
      "codemirror_mode": {
        "name": "ipython",
        "version": 3
      },
      "file_extension": ".py",
      "mimetype": "text/x-python",
      "name": "python",
      "nbconvert_exporter": "python",
      "pygments_lexer": "ipython3",
      "version": "3.10.5"
    },
    "widgets": {
      "application/vnd.jupyter.widget-state+json": {
        "26456f8a49ed4e3cb16e1916e8e004fc": {
          "model_module": "@jupyter-widgets/base",
          "model_module_version": "1.2.0",
          "model_name": "LayoutModel",
          "state": {
            "_model_module": "@jupyter-widgets/base",
            "_model_module_version": "1.2.0",
            "_model_name": "LayoutModel",
            "_view_count": null,
            "_view_module": "@jupyter-widgets/base",
            "_view_module_version": "1.2.0",
            "_view_name": "LayoutView",
            "align_content": null,
            "align_items": null,
            "align_self": null,
            "border": null,
            "bottom": null,
            "display": null,
            "flex": null,
            "flex_flow": null,
            "grid_area": null,
            "grid_auto_columns": null,
            "grid_auto_flow": null,
            "grid_auto_rows": null,
            "grid_column": null,
            "grid_gap": null,
            "grid_row": null,
            "grid_template_areas": null,
            "grid_template_columns": null,
            "grid_template_rows": null,
            "height": null,
            "justify_content": null,
            "justify_items": null,
            "left": null,
            "margin": null,
            "max_height": null,
            "max_width": null,
            "min_height": null,
            "min_width": null,
            "object_fit": null,
            "object_position": null,
            "order": null,
            "overflow": null,
            "overflow_x": null,
            "overflow_y": null,
            "padding": null,
            "right": null,
            "top": null,
            "visibility": null,
            "width": null
          }
        },
        "2ae1d7a3acc9417daf79bba38e5ad521": {
          "model_module": "@jupyter-widgets/controls",
          "model_module_version": "1.5.0",
          "model_name": "LabelModel",
          "state": {
            "_dom_classes": [],
            "_model_module": "@jupyter-widgets/controls",
            "_model_module_version": "1.5.0",
            "_model_name": "LabelModel",
            "_view_count": null,
            "_view_module": "@jupyter-widgets/controls",
            "_view_module_version": "1.5.0",
            "_view_name": "LabelView",
            "description": "",
            "description_tooltip": null,
            "layout": "IPY_MODEL_df353d8c10b744208f37376e2a319348",
            "placeholder": "​",
            "style": "IPY_MODEL_a0bf9ab8eba944299dab612be8a235e8",
            "value": "0.001 MB of 0.012 MB uploaded (0.000 MB deduped)\r"
          }
        },
        "351a861afeef4915bc3e361421313d28": {
          "model_module": "@jupyter-widgets/controls",
          "model_module_version": "1.5.0",
          "model_name": "ProgressStyleModel",
          "state": {
            "_model_module": "@jupyter-widgets/controls",
            "_model_module_version": "1.5.0",
            "_model_name": "ProgressStyleModel",
            "_view_count": null,
            "_view_module": "@jupyter-widgets/base",
            "_view_module_version": "1.2.0",
            "_view_name": "StyleView",
            "bar_color": null,
            "description_width": ""
          }
        },
        "809938bd2c5a4887a4eb200795cae049": {
          "model_module": "@jupyter-widgets/controls",
          "model_module_version": "1.5.0",
          "model_name": "FloatProgressModel",
          "state": {
            "_dom_classes": [],
            "_model_module": "@jupyter-widgets/controls",
            "_model_module_version": "1.5.0",
            "_model_name": "FloatProgressModel",
            "_view_count": null,
            "_view_module": "@jupyter-widgets/controls",
            "_view_module_version": "1.5.0",
            "_view_name": "ProgressView",
            "bar_style": "",
            "description": "",
            "description_tooltip": null,
            "layout": "IPY_MODEL_c575d8c8a7d3469693a3ddc08320ce29",
            "max": 1,
            "min": 0,
            "orientation": "horizontal",
            "style": "IPY_MODEL_351a861afeef4915bc3e361421313d28",
            "value": 0.10010667104291458
          }
        },
        "a0bf9ab8eba944299dab612be8a235e8": {
          "model_module": "@jupyter-widgets/controls",
          "model_module_version": "1.5.0",
          "model_name": "DescriptionStyleModel",
          "state": {
            "_model_module": "@jupyter-widgets/controls",
            "_model_module_version": "1.5.0",
            "_model_name": "DescriptionStyleModel",
            "_view_count": null,
            "_view_module": "@jupyter-widgets/base",
            "_view_module_version": "1.2.0",
            "_view_name": "StyleView",
            "description_width": ""
          }
        },
        "c575d8c8a7d3469693a3ddc08320ce29": {
          "model_module": "@jupyter-widgets/base",
          "model_module_version": "1.2.0",
          "model_name": "LayoutModel",
          "state": {
            "_model_module": "@jupyter-widgets/base",
            "_model_module_version": "1.2.0",
            "_model_name": "LayoutModel",
            "_view_count": null,
            "_view_module": "@jupyter-widgets/base",
            "_view_module_version": "1.2.0",
            "_view_name": "LayoutView",
            "align_content": null,
            "align_items": null,
            "align_self": null,
            "border": null,
            "bottom": null,
            "display": null,
            "flex": null,
            "flex_flow": null,
            "grid_area": null,
            "grid_auto_columns": null,
            "grid_auto_flow": null,
            "grid_auto_rows": null,
            "grid_column": null,
            "grid_gap": null,
            "grid_row": null,
            "grid_template_areas": null,
            "grid_template_columns": null,
            "grid_template_rows": null,
            "height": null,
            "justify_content": null,
            "justify_items": null,
            "left": null,
            "margin": null,
            "max_height": null,
            "max_width": null,
            "min_height": null,
            "min_width": null,
            "object_fit": null,
            "object_position": null,
            "order": null,
            "overflow": null,
            "overflow_x": null,
            "overflow_y": null,
            "padding": null,
            "right": null,
            "top": null,
            "visibility": null,
            "width": null
          }
        },
        "df353d8c10b744208f37376e2a319348": {
          "model_module": "@jupyter-widgets/base",
          "model_module_version": "1.2.0",
          "model_name": "LayoutModel",
          "state": {
            "_model_module": "@jupyter-widgets/base",
            "_model_module_version": "1.2.0",
            "_model_name": "LayoutModel",
            "_view_count": null,
            "_view_module": "@jupyter-widgets/base",
            "_view_module_version": "1.2.0",
            "_view_name": "LayoutView",
            "align_content": null,
            "align_items": null,
            "align_self": null,
            "border": null,
            "bottom": null,
            "display": null,
            "flex": null,
            "flex_flow": null,
            "grid_area": null,
            "grid_auto_columns": null,
            "grid_auto_flow": null,
            "grid_auto_rows": null,
            "grid_column": null,
            "grid_gap": null,
            "grid_row": null,
            "grid_template_areas": null,
            "grid_template_columns": null,
            "grid_template_rows": null,
            "height": null,
            "justify_content": null,
            "justify_items": null,
            "left": null,
            "margin": null,
            "max_height": null,
            "max_width": null,
            "min_height": null,
            "min_width": null,
            "object_fit": null,
            "object_position": null,
            "order": null,
            "overflow": null,
            "overflow_x": null,
            "overflow_y": null,
            "padding": null,
            "right": null,
            "top": null,
            "visibility": null,
            "width": null
          }
        },
        "fe01f7c3d4804fbe95750c0433ff97e3": {
          "model_module": "@jupyter-widgets/controls",
          "model_module_version": "1.5.0",
          "model_name": "VBoxModel",
          "state": {
            "_dom_classes": [],
            "_model_module": "@jupyter-widgets/controls",
            "_model_module_version": "1.5.0",
            "_model_name": "VBoxModel",
            "_view_count": null,
            "_view_module": "@jupyter-widgets/controls",
            "_view_module_version": "1.5.0",
            "_view_name": "VBoxView",
            "box_style": "",
            "children": [
              "IPY_MODEL_2ae1d7a3acc9417daf79bba38e5ad521",
              "IPY_MODEL_809938bd2c5a4887a4eb200795cae049"
            ],
            "layout": "IPY_MODEL_26456f8a49ed4e3cb16e1916e8e004fc"
          }
        }
      }
    }
  },
  "nbformat": 4,
  "nbformat_minor": 0
}
